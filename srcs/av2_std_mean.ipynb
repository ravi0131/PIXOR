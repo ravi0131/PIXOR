{
 "cells": [
  {
   "cell_type": "code",
   "execution_count": 1,
   "metadata": {},
   "outputs": [
    {
     "name": "stdout",
     "output_type": "stream",
     "text": [
      "Dataset for training set created\n",
      "Total frames: 1\n",
      "Done pre-computing the mapping\n",
      "Mean of the labels:  [ 0.55108836 -0.05490645  0.18352025  0.1984451   0.57678769  1.49336463]\n",
      "Standard deviation of the labels:  [0.71474333 0.42711668 1.17953996 0.63330789 0.17247922 0.21158238]\n"
     ]
    }
   ],
   "source": [
    "from datagen_av2 import AV2\n",
    "import numpy as np\n",
    "train_dataset = AV2(train=True)\n",
    "\n",
    "train_dataset.load_velo()\n",
    "train_dataset.calculate_mean_std()\n"
   ]
  },
  {
   "cell_type": "code",
   "execution_count": 2,
   "metadata": {},
   "outputs": [
    {
     "name": "stdout",
     "output_type": "stream",
     "text": [
      "Dataset for validation set created\n",
      "Total frames: 1\n",
      "Done pre-computing the mapping\n",
      "Mean of the labels:  [ 0.55108836 -0.05490645  0.18352025  0.1984451   0.57678769  1.49336463]\n",
      "Standard deviation of the labels:  [0.71474333 0.42711668 1.17953996 0.63330789 0.17247922 0.21158238]\n"
     ]
    }
   ],
   "source": [
    "test_dataset = AV2(train=False)\n",
    "\n",
    "test_dataset.load_velo()\n",
    "test_dataset.calculate_mean_std()"
   ]
  },
  {
   "cell_type": "code",
   "execution_count": 3,
   "metadata": {},
   "outputs": [],
   "source": [
    "_, label_map, _=  train_dataset.__getitem__(0)\n",
    "label_map = label_map.permute(1, 2, 0)\n",
    "label_map = label_map.numpy()"
   ]
  },
  {
   "cell_type": "code",
   "execution_count": null,
   "metadata": {},
   "outputs": [],
   "source": [
    "label_map.shape"
   ]
  },
  {
   "cell_type": "code",
   "execution_count": null,
   "metadata": {},
   "outputs": [],
   "source": [
    "def calculate_mean_std(dataset: AV2, label_map: np.ndarray):\n",
    "        \"\"\"\n",
    "        Calculate the mean and standard deviation of the labels of the training dataset\n",
    "        \"\"\"\n",
    "        sum_labels = np.zeros(dataset.geometry['label_shape'][2] - 1)  # shape: 6\n",
    "        sum_squares = np.zeros(dataset.geometry['label_shape'][2] - 1) # shape: 6\n",
    "        count = 0\n",
    "\n",
    "        cls_map = label_map[..., 0] #shape: 200x175\n",
    "        reg_map = label_map[..., 1:] #shape 200x175x6\n",
    "\n",
    "        index = np.nonzero(cls_map)\n",
    "        filtered_reg_map = reg_map[index]  # shape: number of 1s in cls_map x 6\n",
    "\n",
    "        sum_labels += np.sum(filtered_reg_map, axis=0)\n",
    "        sum_squares += np.sum(filtered_reg_map ** 2, axis=0)\n",
    "        count += filtered_reg_map.shape[0]\n",
    "\n",
    "        mean = sum_labels / count\n",
    "        std_dev = np.sqrt(sum_squares / count - mean ** 2)\n",
    "        print(\"Mean of the labels: \", mean)\n",
    "        print(\"Standard deviation of the labels: \", std_dev)\n",
    "    "
   ]
  },
  {
   "cell_type": "code",
   "execution_count": null,
   "metadata": {},
   "outputs": [],
   "source": [
    "calculate_mean_std(train_dataset, label_map)"
   ]
  }
 ],
 "metadata": {
  "kernelspec": {
   "display_name": "pixo",
   "language": "python",
   "name": "python3"
  },
  "language_info": {
   "codemirror_mode": {
    "name": "ipython",
    "version": 3
   },
   "file_extension": ".py",
   "mimetype": "text/x-python",
   "name": "python",
   "nbconvert_exporter": "python",
   "pygments_lexer": "ipython3",
   "version": "3.8.18"
  }
 },
 "nbformat": 4,
 "nbformat_minor": 2
}
